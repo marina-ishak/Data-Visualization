{
 "cells": [
  {
   "cell_type": "code",
   "execution_count": 2,
   "metadata": {},
   "outputs": [],
   "source": [
    "import pandas as pd\n",
    "import numpy as np\n",
    "from sklearn.preprocessing import LabelEncoder, StandardScaler\n"
   ]
  },
  {
   "cell_type": "code",
   "execution_count": 3,
   "metadata": {},
   "outputs": [
    {
     "name": "stdout",
     "output_type": "stream",
     "text": [
      "<class 'pandas.core.frame.DataFrame'>\n",
      "RangeIndex: 27562 entries, 0 to 27561\n",
      "Data columns (total 8 columns):\n",
      " #   Column             Non-Null Count  Dtype \n",
      "---  ------             --------------  ----- \n",
      " 0   PreferredSponsors  27562 non-null  object\n",
      " 1   Gender             18027 non-null  object\n",
      " 2   Country            27500 non-null  object\n",
      " 3   Degree             16750 non-null  object\n",
      " 4   Sign Up Date       27562 non-null  object\n",
      " 5   Time               27562 non-null  object\n",
      " 6   City               27561 non-null  object\n",
      " 7   isFromSocialMedia  27553 non-null  object\n",
      "dtypes: object(8)\n",
      "memory usage: 1.7+ MB\n",
      "None\n",
      "                                   PreferredSponsors  Gender  Country  \\\n",
      "0  [\"GlobalShala\",\"Grant Thornton China\",\"Saint L...    Male  Nigeria   \n",
      "1  [\"GlobalShala\",\"Grant Thornton China\",\"Saint L...    Male    India   \n",
      "2  [\"GlobalShala\",\"Illinois Institute of Technolo...     NaN    India   \n",
      "3  [\"GlobalShala\",\"Grant Thornton China\",\"Saint L...     NaN  Albania   \n",
      "4  [\"GlobalShala\",\"Grant Thornton China\",\"Saint L...  Female    Ghana   \n",
      "\n",
      "                  Degree Sign Up Date         Time      City isFromSocialMedia  \n",
      "0  Undergraduate Student   2023-07-23   8:05:58 AM    Owerri             False  \n",
      "1  Undergraduate Student   2023-04-24   9:05:58 AM  Kottayam             False  \n",
      "2                    NaN   2022-10-14  10:05:58 AM        Na             False  \n",
      "3                    NaN   2023-06-06  11:05:58 AM        Na              True  \n",
      "4       Not in Education   2023-06-15  12:05:58 PM    Kumasi             False  \n"
     ]
    }
   ],
   "source": [
    "#load the data form the dataset\n",
    "df= pd.read_csv('UserData (2).csv')\n",
    "\n",
    "print(df.info())\n",
    "\n",
    "print(df.head())\n"
   ]
  },
  {
   "cell_type": "code",
   "execution_count": 4,
   "metadata": {},
   "outputs": [
    {
     "name": "stdout",
     "output_type": "stream",
     "text": [
      "PreferredSponsors        0\n",
      "Gender                9535\n",
      "Country                 62\n",
      "Degree               10812\n",
      "Sign Up Date             0\n",
      "Time                     0\n",
      "City                     1\n",
      "isFromSocialMedia        9\n",
      "dtype: int64\n"
     ]
    }
   ],
   "source": [
    "print(df.isnull().sum())"
   ]
  },
  {
   "cell_type": "code",
   "execution_count": 5,
   "metadata": {},
   "outputs": [],
   "source": [
    "# Convert categorical variables to numerical using Label Encoding\n",
    "label_encoder = LabelEncoder()\n",
    "\n",
    "df['Gender'] = label_encoder.fit_transform(df['Gender'])\n",
    "df['Country'] = label_encoder.fit_transform(df['Country'])\n",
    "df['Degree'] = label_encoder.fit_transform(df['Degree'])\n",
    "df['City'] = label_encoder.fit_transform(df['City'])\n"
   ]
  },
  {
   "cell_type": "code",
   "execution_count": 6,
   "metadata": {},
   "outputs": [],
   "source": [
    "# Assuming 'Sign Up Date' is in datetime format\n",
    "df['Sign Up Date'] = pd.to_datetime(df['Sign Up Date'])\n",
    "\n",
    "# Extract features from 'Sign Up Date'\n",
    "df['signup_month'] = df['Sign Up Date'].dt.month\n",
    "df['signup_year'] = df['Sign Up Date'].dt.year\n",
    "\n",
    "# Assuming 'Time' is in datetime format\n",
    "df['Time'] = pd.to_datetime(df['Time'], format='%I:%M:%S %p')\n",
    "# Extract features from 'Time'\n",
    "df['signup_hour'] = df['Time'].dt.hour\n"
   ]
  },
  {
   "cell_type": "code",
   "execution_count": 7,
   "metadata": {},
   "outputs": [],
   "source": [
    "#reward amount \n",
    "#badge Id "
   ]
  },
  {
   "cell_type": "code",
   "execution_count": 8,
   "metadata": {},
   "outputs": [],
   "source": [
    "# Standardize numerical features if needed\n",
    "numerical_features = ['signup_month', 'signup_year', 'signup_hour']\n",
    "scaler = StandardScaler()\n",
    "df[numerical_features] = scaler.fit_transform(df[numerical_features])\n"
   ]
  },
  {
   "cell_type": "code",
   "execution_count": 9,
   "metadata": {},
   "outputs": [
    {
     "name": "stdout",
     "output_type": "stream",
     "text": [
      "[False True nan]\n",
      "9\n"
     ]
    }
   ],
   "source": [
    "print(df['isFromSocialMedia'].unique())\n",
    "print(df['isFromSocialMedia'].isnull().sum())\n",
    "df['isFromSocialMedia'].fillna(0, inplace=True)\n",
    "df['isFromSocialMedia'] = df['isFromSocialMedia'].astype(int)\n"
   ]
  },
  {
   "cell_type": "code",
   "execution_count": 10,
   "metadata": {},
   "outputs": [],
   "source": [
    "df.to_csv('preprocesseddata3.csv',index=False)"
   ]
  }
 ],
 "metadata": {
  "kernelspec": {
   "display_name": "Python 3",
   "language": "python",
   "name": "python3"
  },
  "language_info": {
   "codemirror_mode": {
    "name": "ipython",
    "version": 3
   },
   "file_extension": ".py",
   "mimetype": "text/x-python",
   "name": "python",
   "nbconvert_exporter": "python",
   "pygments_lexer": "ipython3",
   "version": "3.11.3"
  }
 },
 "nbformat": 4,
 "nbformat_minor": 2
}
