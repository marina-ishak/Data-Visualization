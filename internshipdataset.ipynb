{
    "cells": [
        {
            "cell_type": "code",
            "execution_count": 1,
            "metadata": {},
            "outputs": [],
            "source": [
                "import pandas as pd\n",
                "from ast import literal_eval\n",
                "\n",
                "# Load the original dataset\n",
                "df = pd.read_csv(\"Opportunity Wise Data.csv\")\n",
                "\n",
                "# Date formatting\n",
                "date_columns = [\"Opportunity End Date\", \"Apply Date\", \"Opportunity Start Date\"]\n",
                "for col in date_columns:\n",
                "    df[col] = pd.to_datetime(df[col], errors='coerce').dt.strftime('%Y-%m-%d %H:%M:%S')\n",
                "\n",
                "# Convert \"Skills Earned\" to a list\n",
                "df[\"Skills Earned\"] = df[\"Skills Earned\"].apply(lambda x: literal_eval(x) if pd.notnull(x) else [])\n",
                "\n",
                "# Categorical encoding\n",
                "df = pd.get_dummies(df, columns=[\"Gender\", \"City\", \"State\", \"Country\", \"Current/Intended Major\"])\n",
                "\n",
                "# Feature engineering (example: extracting year and month)\n",
                "df['Opportunity End Year'] = pd.to_datetime(df['Opportunity End Date']).dt.year\n",
                "df['Opportunity End Month'] = pd.to_datetime(df['Opportunity End Date']).dt.month\n",
                "\n",
                "# Remove unnecessary columns\n",
                "df = df.drop([\"Profile Id\", \"Opportunity Id\", \"Zip Code\"], axis=1)\n",
                "\n",
                "# Save the preprocessed dataset\n",
                "df.to_csv(\"interntrial.csv\", index=False)\n"
            ]
        }
    ],
    "metadata": {
        "kernelspec": {
            "display_name": "Python 3",
            "language": "python",
            "name": "python3"
        },
        "language_info": {
            "codemirror_mode": {
                "name": "ipython",
                "version": 3
            },
            "file_extension": ".py",
            "mimetype": "text/x-python",
            "name": "python",
            "nbconvert_exporter": "python",
            "pygments_lexer": "ipython3",
            "version": "3.11.3"
        }
    },
    "nbformat": 4,
    "nbformat_minor": 2
}